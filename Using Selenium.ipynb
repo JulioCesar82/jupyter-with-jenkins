{
 "cells": [
  {
   "cell_type": "markdown",
   "metadata": {
    "lc_cell_meme": {
     "current": "9fa2b8fa-f497-11ea-9c07-ee16286cb09f-2-4019-825a",
     "history": [
      {
       "current": "9fa2b8fa-f497-11ea-9c07-ee16286cb09f",
       "next": "9fa2ba1c-f497-11ea-9c07-ee16286cb09f",
       "previous": null
      },
      {
       "current": "9fa2b8fa-f497-11ea-9c07-ee16286cb09f-1-4019",
       "next": "e728eab4-f497-11ea-9c07-ee16286cb09f",
       "previous": null
      },
      {
       "current": "9fa2b8fa-f497-11ea-9c07-ee16286cb09f-2-4019-825a",
       "next": "e728eab4-f497-11ea-9c07-ee16286cb09f-1-7f52",
       "previous": null
      }
     ],
     "next": "e728eab4-f497-11ea-9c07-ee16286cb09f-2-7f52-295f",
     "previous": null
    }
   },
   "source": [
    "# About: Using Selenium\n",
    "\n",
    "Jupyter NotebookからSeleniumを使ってみる例です。\n",
    "\n",
    "1. GitHubリポジトリ https://github.com/JulioCesar82/jupyter-with-jenkins を開き\n",
    "2. `conf`ディレクトリの中身を覗く\n",
    "3. サーバーの応答時間を可視化する\n",
    "\n",
    "ことをしてみます。"
   ]
  },
  {
   "cell_type": "markdown",
   "metadata": {
    "lc_cell_meme": {
     "current": "e728eab4-f497-11ea-9c07-ee16286cb09f-2-7f52-295f",
     "history": [
      {
       "current": "e728eab4-f497-11ea-9c07-ee16286cb09f-1-7f52",
       "next": "e728ec94-f497-11ea-9c07-ee16286cb09f",
       "previous": "9fa2b8fa-f497-11ea-9c07-ee16286cb09f"
      },
      {
       "current": "e728eab4-f497-11ea-9c07-ee16286cb09f-2-7f52-295f",
       "next": "e728ec94-f497-11ea-9c07-ee16286cb09f-1-add8",
       "previous": "9fa2b8fa-f497-11ea-9c07-ee16286cb09f-1-4019"
      }
     ],
     "next": "e728ec94-f497-11ea-9c07-ee16286cb09f-2-add8-d7f6",
     "previous": "9fa2b8fa-f497-11ea-9c07-ee16286cb09f-2-4019-825a"
    }
   },
   "source": [
    "# 準備"
   ]
  },
  {
   "cell_type": "markdown",
   "metadata": {
    "lc_cell_meme": {
     "current": "e728ec94-f497-11ea-9c07-ee16286cb09f-2-add8-d7f6",
     "history": [
      {
       "current": "e728ec94-f497-11ea-9c07-ee16286cb09f-1-add8",
       "next": "9fa2bb0c-f497-11ea-9c07-ee16286cb09f",
       "previous": "e728eab4-f497-11ea-9c07-ee16286cb09f"
      },
      {
       "current": "e728ec94-f497-11ea-9c07-ee16286cb09f-2-add8-d7f6",
       "next": "9fa2bb0c-f497-11ea-9c07-ee16286cb09f-1-8ac4",
       "previous": "e728eab4-f497-11ea-9c07-ee16286cb09f-1-7f52"
      }
     ],
     "next": "9fa2bb0c-f497-11ea-9c07-ee16286cb09f-2-8ac4-10da",
     "previous": "e728eab4-f497-11ea-9c07-ee16286cb09f-2-7f52-295f"
    }
   },
   "source": [
    "必要なライブラリをインポートします。"
   ]
  },
  {
   "cell_type": "code",
   "execution_count": null,
   "metadata": {
    "lc_cell_meme": {
     "current": "9fa2bb0c-f497-11ea-9c07-ee16286cb09f-2-8ac4-10da",
     "history": [
      {
       "current": "9fa2bb0c-f497-11ea-9c07-ee16286cb09f",
       "next": "9fa2bbfc-f497-11ea-9c07-ee16286cb09f",
       "previous": "9fa2ba1c-f497-11ea-9c07-ee16286cb09f"
      },
      {
       "current": "9fa2bb0c-f497-11ea-9c07-ee16286cb09f",
       "next": "e728ed3e-f497-11ea-9c07-ee16286cb09f",
       "previous": "e728ec94-f497-11ea-9c07-ee16286cb09f"
      },
      {
       "current": "9fa2bb0c-f497-11ea-9c07-ee16286cb09f-1-8ac4",
       "next": "e728ed3e-f497-11ea-9c07-ee16286cb09f-1-f884",
       "previous": "e728ec94-f497-11ea-9c07-ee16286cb09f"
      },
      {
       "current": "9fa2bb0c-f497-11ea-9c07-ee16286cb09f-2-8ac4-10da",
       "next": "e728ed3e-f497-11ea-9c07-ee16286cb09f-2-f884-20cb",
       "previous": "e728ec94-f497-11ea-9c07-ee16286cb09f-1-add8"
      }
     ],
     "next": "e728ed3e-f497-11ea-9c07-ee16286cb09f-3-f884-20cb-00b6",
     "previous": "e728ec94-f497-11ea-9c07-ee16286cb09f-2-add8-d7f6"
    },
    "lc_wrapper": {
     "log_history": [
      "/home/jovyan/.log/20200912/20200912-012910-0323.log",
      "/home/jovyan/.log/20200912/20200912-013411-0627.log",
      "/home/jovyan/.log/20200912/20200912-014345-0676.log",
      "/home/jovyan/.log/20220220/20220220-040854-0124.log",
      "/home/jovyan/.log/20220220/20220220-041033-0677.log",
      "/home/jovyan/.log/20220220/20220220-042817-0952.log",
      "/home/jovyan/.log/20220220/20220220-043036-0261.log",
      "/home/jovyan/.log/20231019/20231019-224850-0749.log"
     ]
    }
   },
   "outputs": [],
   "source": [
    "import time\n",
    "import os\n",
    "from IPython.display import Image\n",
    "\n",
    "from selenium import webdriver\n",
    "from selenium.webdriver.common.keys import Keys\n",
    "from selenium.webdriver.common.by import By\n",
    "from selenium.common.exceptions import NoSuchElementException"
   ]
  },
  {
   "cell_type": "markdown",
   "metadata": {
    "lc_cell_meme": {
     "current": "e728ed3e-f497-11ea-9c07-ee16286cb09f-3-f884-20cb-00b6",
     "history": [
      {
       "current": "e728ed3e-f497-11ea-9c07-ee16286cb09f-2-f884-20cb",
       "next": "9fa2bbfc-f497-11ea-9c07-ee16286cb09f",
       "previous": "9fa2bb0c-f497-11ea-9c07-ee16286cb09f"
      },
      {
       "current": "e728ed3e-f497-11ea-9c07-ee16286cb09f-3-f884-20cb-00b6",
       "next": "9fa2bbfc-f497-11ea-9c07-ee16286cb09f-1-2c68",
       "previous": "9fa2bb0c-f497-11ea-9c07-ee16286cb09f-1-8ac4"
      }
     ],
     "next": "9fa2bbfc-f497-11ea-9c07-ee16286cb09f-2-2c68-b421",
     "previous": "9fa2bb0c-f497-11ea-9c07-ee16286cb09f-2-8ac4-10da"
    }
   },
   "source": [
    "WebDriverを準備します。本環境にはChrome Driverのみインストールしています。(Firefoxとか、Pull Requestもらえると嬉しかったり)\n",
    "\n",
    "> サーバーの応答時間を可視化するために、Chromeを前提としたパラメータを指定しています。"
   ]
  },
  {
   "cell_type": "code",
   "execution_count": null,
   "metadata": {
    "lc_cell_meme": {
     "current": "9fa2bbfc-f497-11ea-9c07-ee16286cb09f-2-2c68-b421",
     "history": [
      {
       "current": "9fa2bbfc-f497-11ea-9c07-ee16286cb09f",
       "next": "9fa2bcd8-f497-11ea-9c07-ee16286cb09f",
       "previous": "9fa2bb0c-f497-11ea-9c07-ee16286cb09f"
      },
      {
       "current": "9fa2bbfc-f497-11ea-9c07-ee16286cb09f",
       "next": "9fa2bcd8-f497-11ea-9c07-ee16286cb09f",
       "previous": "e728ed3e-f497-11ea-9c07-ee16286cb09f"
      },
      {
       "current": "9fa2bbfc-f497-11ea-9c07-ee16286cb09f-1-2c68",
       "next": "2eb2611c-f498-11ea-9c07-ee16286cb09f",
       "previous": "e728ed3e-f497-11ea-9c07-ee16286cb09f-1-f884"
      },
      {
       "current": "9fa2bbfc-f497-11ea-9c07-ee16286cb09f-2-2c68-b421",
       "next": "2eb2611c-f498-11ea-9c07-ee16286cb09f-1-8a90",
       "previous": "e728ed3e-f497-11ea-9c07-ee16286cb09f-2-f884-20cb"
      }
     ],
     "next": "2eb2611c-f498-11ea-9c07-ee16286cb09f-2-8a90-ab72",
     "previous": "e728ed3e-f497-11ea-9c07-ee16286cb09f-3-f884-20cb-00b6"
    },
    "lc_wrapper": {
     "log_history": [
      "/home/jovyan/.log/20200912/20200912-012913-0978.log",
      "/home/jovyan/.log/20200912/20200912-013339-0465.log",
      "/home/jovyan/.log/20200912/20200912-014345-0788.log",
      "/home/jovyan/.log/20220220/20220220-040955-0736.log",
      "/home/jovyan/.log/20220220/20220220-042818-0003.log",
      "/home/jovyan/.log/20220220/20220220-043036-0312.log",
      "/home/jovyan/.log/20231019/20231019-224851-0114.log",
      "/home/jovyan/.log/20231019/20231019-225012-0676.log",
      "/home/jovyan/.log/20231019/20231019-225039-0063.log",
      "/home/jovyan/.log/20231019/20231019-225055-0826.log",
      "/home/jovyan/.log/20231019/20231019-225113-0726.log",
      "/home/jovyan/.log/20231019/20231019-225224-0651.log"
     ]
    }
   },
   "outputs": [],
   "source": [
    "from selenium import webdriver\n",
    "from selenium.webdriver.chrome.options import Options\n",
    "\n",
    "chrome_options = webdriver.ChromeOptions()\n",
    "chrome_options.add_argument('--no-sandbox')\n",
    "chrome_options.add_argument('--headless')\n",
    "chrome_options.add_argument('--disable-dev-shm-usage')\n",
    "chrome_options.add_argument('--lang=ja')\n",
    "\n",
    "# DriverからPerfomance Logを取得し、これをHARとして整形する\n",
    "# 参考: https://stackoverflow.com/questions/18075645/export-har-using-chromedriver\n",
    "perf_log_prefs = dict(traceCategories='browser,devtools.timeline,devtools', enableNetwork=True, enablePage=True)\n",
    "chrome_options.add_experimental_option('perfLoggingPrefs', perf_log_prefs)\n",
    "\n",
    "#caps = webdriver.DesiredCapabilities.CHROME.copy() \n",
    "chrome_options.set_capability('goog:loggingPrefs', {'performance': 'ALL', 'browser': 'ALL'})\n",
    "\n",
    "driver = webdriver.Chrome(options=chrome_options)"
   ]
  },
  {
   "cell_type": "markdown",
   "metadata": {
    "lc_cell_meme": {
     "current": "2eb2611c-f498-11ea-9c07-ee16286cb09f-2-8a90-ab72",
     "history": [
      {
       "current": "2eb2611c-f498-11ea-9c07-ee16286cb09f-1-8a90",
       "next": "9fa2bcd8-f497-11ea-9c07-ee16286cb09f",
       "previous": "9fa2bbfc-f497-11ea-9c07-ee16286cb09f"
      },
      {
       "current": "2eb2611c-f498-11ea-9c07-ee16286cb09f-2-8a90-ab72",
       "next": "9fa2bcd8-f497-11ea-9c07-ee16286cb09f-1-de57",
       "previous": "9fa2bbfc-f497-11ea-9c07-ee16286cb09f-1-2c68"
      }
     ],
     "next": "9fa2bcd8-f497-11ea-9c07-ee16286cb09f-2-de57-da97",
     "previous": "9fa2bbfc-f497-11ea-9c07-ee16286cb09f-2-2c68-b421"
    }
   },
   "source": [
    "スクリーンショットを取得するための一時ディレクトリを準備しておきます。"
   ]
  },
  {
   "cell_type": "code",
   "execution_count": null,
   "metadata": {
    "lc_cell_meme": {
     "current": "9fa2bcd8-f497-11ea-9c07-ee16286cb09f-2-de57-da97",
     "history": [
      {
       "current": "9fa2bcd8-f497-11ea-9c07-ee16286cb09f",
       "next": "9fa2bda0-f497-11ea-9c07-ee16286cb09f",
       "previous": "9fa2bbfc-f497-11ea-9c07-ee16286cb09f"
      },
      {
       "current": "9fa2bcd8-f497-11ea-9c07-ee16286cb09f",
       "next": "9fa2ba1c-f497-11ea-9c07-ee16286cb09f",
       "previous": "9fa2bbfc-f497-11ea-9c07-ee16286cb09f"
      },
      {
       "current": "9fa2bcd8-f497-11ea-9c07-ee16286cb09f",
       "next": "2eb262ca-f498-11ea-9c07-ee16286cb09f",
       "previous": "2eb2611c-f498-11ea-9c07-ee16286cb09f"
      },
      {
       "current": "9fa2bcd8-f497-11ea-9c07-ee16286cb09f-1-de57",
       "next": "4cccb728-f499-11ea-9c07-ee16286cb09f",
       "previous": "2eb2611c-f498-11ea-9c07-ee16286cb09f"
      },
      {
       "current": "9fa2bcd8-f497-11ea-9c07-ee16286cb09f-2-de57-da97",
       "next": "4cccb728-f499-11ea-9c07-ee16286cb09f-1-119e",
       "previous": "2eb2611c-f498-11ea-9c07-ee16286cb09f-1-8a90"
      }
     ],
     "next": "4cccb728-f499-11ea-9c07-ee16286cb09f-2-119e-e82b",
     "previous": "2eb2611c-f498-11ea-9c07-ee16286cb09f-2-8a90-ab72"
    },
    "lc_wrapper": {
     "log_history": [
      "/home/jovyan/.log/20200912/20200912-012923-0754.log",
      "/home/jovyan/.log/20200912/20200912-013432-0895.log",
      "/home/jovyan/.log/20200912/20200912-014347-0376.log",
      "/home/jovyan/.log/20220220/20220220-040958-0113.log",
      "/home/jovyan/.log/20220220/20220220-042818-0653.log",
      "/home/jovyan/.log/20220220/20220220-043036-0966.log"
     ]
    }
   },
   "outputs": [],
   "source": [
    "import tempfile\n",
    "work_dir = tempfile.mkdtemp()\n",
    "work_dir"
   ]
  },
  {
   "cell_type": "markdown",
   "metadata": {
    "lc_cell_meme": {
     "current": "4cccb728-f499-11ea-9c07-ee16286cb09f-2-119e-e82b",
     "history": [
      {
       "current": "4cccb728-f499-11ea-9c07-ee16286cb09f-1-119e",
       "next": "2eb262ca-f498-11ea-9c07-ee16286cb09f",
       "previous": "9fa2bcd8-f497-11ea-9c07-ee16286cb09f"
      },
      {
       "current": "4cccb728-f499-11ea-9c07-ee16286cb09f-2-119e-e82b",
       "next": "2eb262ca-f498-11ea-9c07-ee16286cb09f-1-54b4",
       "previous": "9fa2bcd8-f497-11ea-9c07-ee16286cb09f-1-de57"
      }
     ],
     "next": "2eb262ca-f498-11ea-9c07-ee16286cb09f-2-54b4-70ca",
     "previous": "9fa2bcd8-f497-11ea-9c07-ee16286cb09f-2-de57-da97"
    }
   },
   "source": [
    "# テストの実施"
   ]
  },
  {
   "cell_type": "markdown",
   "metadata": {
    "lc_cell_meme": {
     "current": "2eb262ca-f498-11ea-9c07-ee16286cb09f-2-54b4-70ca",
     "history": [
      {
       "current": "2eb262ca-f498-11ea-9c07-ee16286cb09f",
       "next": "9fa2ba1c-f497-11ea-9c07-ee16286cb09f",
       "previous": "9fa2bcd8-f497-11ea-9c07-ee16286cb09f"
      },
      {
       "current": "2eb262ca-f498-11ea-9c07-ee16286cb09f-1-54b4",
       "next": "9fa2ba1c-f497-11ea-9c07-ee16286cb09f",
       "previous": "4cccb728-f499-11ea-9c07-ee16286cb09f"
      },
      {
       "current": "2eb262ca-f498-11ea-9c07-ee16286cb09f-2-54b4-70ca",
       "next": "9fa2ba1c-f497-11ea-9c07-ee16286cb09f-1-a26f",
       "previous": "4cccb728-f499-11ea-9c07-ee16286cb09f-1-119e"
      }
     ],
     "next": "9fa2ba1c-f497-11ea-9c07-ee16286cb09f-2-a26f-e86f",
     "previous": "4cccb728-f499-11ea-9c07-ee16286cb09f-2-119e-e82b"
    }
   },
   "source": [
    "## ブラウザを開く\n",
    "\n",
    "WebDriverを使って、URLを指定してブラウザを開きます。"
   ]
  },
  {
   "cell_type": "code",
   "execution_count": null,
   "metadata": {
    "lc_cell_meme": {
     "current": "9fa2ba1c-f497-11ea-9c07-ee16286cb09f-2-a26f-e86f",
     "history": [
      {
       "current": "9fa2ba1c-f497-11ea-9c07-ee16286cb09f",
       "next": "9fa2bb0c-f497-11ea-9c07-ee16286cb09f",
       "previous": "9fa2b8fa-f497-11ea-9c07-ee16286cb09f"
      },
      {
       "current": "9fa2ba1c-f497-11ea-9c07-ee16286cb09f",
       "next": "9fa2bda0-f497-11ea-9c07-ee16286cb09f",
       "previous": "9fa2bcd8-f497-11ea-9c07-ee16286cb09f"
      },
      {
       "current": "9fa2ba1c-f497-11ea-9c07-ee16286cb09f",
       "next": "9fa2bda0-f497-11ea-9c07-ee16286cb09f",
       "previous": "2eb262ca-f498-11ea-9c07-ee16286cb09f"
      },
      {
       "current": "9fa2ba1c-f497-11ea-9c07-ee16286cb09f-1-a26f",
       "next": "7636e5c6-f498-11ea-9c07-ee16286cb09f",
       "previous": "2eb262ca-f498-11ea-9c07-ee16286cb09f"
      },
      {
       "current": "9fa2ba1c-f497-11ea-9c07-ee16286cb09f-2-a26f-e86f",
       "next": "7636e5c6-f498-11ea-9c07-ee16286cb09f-1-88d1",
       "previous": "2eb262ca-f498-11ea-9c07-ee16286cb09f-1-54b4"
      }
     ],
     "next": "7636e5c6-f498-11ea-9c07-ee16286cb09f-2-88d1-cd7c",
     "previous": "2eb262ca-f498-11ea-9c07-ee16286cb09f-2-54b4-70ca"
    },
    "lc_wrapper": {
     "log_history": [
      "/home/jovyan/.log/20200912/20200912-012909-0181.log",
      "/home/jovyan/.log/20200912/20200912-013548-0489.log",
      "/home/jovyan/.log/20200912/20200912-014347-0403.log",
      "/home/jovyan/.log/20220220/20220220-040959-0548.log",
      "/home/jovyan/.log/20220220/20220220-041057-0547.log",
      "/home/jovyan/.log/20220220/20220220-042818-0670.log",
      "/home/jovyan/.log/20220220/20220220-043036-0983.log"
     ]
    }
   },
   "outputs": [],
   "source": [
    "url = 'https://github.com/JulioCesar82/jupyter-with-jenkins'\n",
    "driver.get(url)\n",
    "\n",
    "# Output the screenshot\n",
    "driver.save_screenshot(os.path.join(work_dir, 'sample.png'))\n",
    "Image(os.path.join(work_dir, 'sample.png'))"
   ]
  },
  {
   "cell_type": "markdown",
   "metadata": {
    "lc_cell_meme": {
     "current": "7636e5c6-f498-11ea-9c07-ee16286cb09f-2-88d1-cd7c",
     "history": [
      {
       "current": "7636e5c6-f498-11ea-9c07-ee16286cb09f-1-88d1",
       "next": "9fa2bda0-f497-11ea-9c07-ee16286cb09f",
       "previous": "9fa2ba1c-f497-11ea-9c07-ee16286cb09f"
      },
      {
       "current": "7636e5c6-f498-11ea-9c07-ee16286cb09f-2-88d1-cd7c",
       "next": "9fa2bda0-f497-11ea-9c07-ee16286cb09f-1-4e1e",
       "previous": "9fa2ba1c-f497-11ea-9c07-ee16286cb09f-1-a26f"
      }
     ],
     "next": "9fa2bda0-f497-11ea-9c07-ee16286cb09f-2-4e1e-12df",
     "previous": "9fa2ba1c-f497-11ea-9c07-ee16286cb09f-2-a26f-e86f"
    }
   },
   "source": [
    "## 画面遷移の確認\n",
    "\n",
    "`conf`ディレクトリの中身を覗いてみます。"
   ]
  },
  {
   "cell_type": "code",
   "execution_count": null,
   "metadata": {
    "lc_cell_meme": {
     "current": "9fa2bda0-f497-11ea-9c07-ee16286cb09f-2-4e1e-12df",
     "history": [
      {
       "current": "9fa2bda0-f497-11ea-9c07-ee16286cb09f",
       "next": "9fa2be7c-f497-11ea-9c07-ee16286cb09f",
       "previous": "9fa2bcd8-f497-11ea-9c07-ee16286cb09f"
      },
      {
       "current": "9fa2bda0-f497-11ea-9c07-ee16286cb09f",
       "next": "9fa2be7c-f497-11ea-9c07-ee16286cb09f",
       "previous": "9fa2ba1c-f497-11ea-9c07-ee16286cb09f"
      },
      {
       "current": "9fa2bda0-f497-11ea-9c07-ee16286cb09f",
       "next": "9fa2be7c-f497-11ea-9c07-ee16286cb09f",
       "previous": "7636e5c6-f498-11ea-9c07-ee16286cb09f"
      },
      {
       "current": "9fa2bda0-f497-11ea-9c07-ee16286cb09f-1-4e1e",
       "next": "bdbec7c4-f498-11ea-9c07-ee16286cb09f",
       "previous": "7636e5c6-f498-11ea-9c07-ee16286cb09f"
      },
      {
       "current": "9fa2bda0-f497-11ea-9c07-ee16286cb09f-2-4e1e-12df",
       "next": "bdbec7c4-f498-11ea-9c07-ee16286cb09f-1-3377",
       "previous": "7636e5c6-f498-11ea-9c07-ee16286cb09f-1-88d1"
      }
     ],
     "next": "bdbec7c4-f498-11ea-9c07-ee16286cb09f-2-3377-ffea",
     "previous": "7636e5c6-f498-11ea-9c07-ee16286cb09f-2-88d1-cd7c"
    },
    "lc_wrapper": {
     "log_history": [
      "/home/jovyan/.log/20200912/20200912-012924-0526.log",
      "/home/jovyan/.log/20200912/20200912-013715-0526.log",
      "/home/jovyan/.log/20200912/20200912-014349-0534.log",
      "/home/jovyan/.log/20220220/20220220-041010-0171.log",
      "/home/jovyan/.log/20220220/20220220-041053-0533.log",
      "/home/jovyan/.log/20220220/20220220-041058-0535.log",
      "/home/jovyan/.log/20220220/20220220-042820-0132.log",
      "/home/jovyan/.log/20220220/20220220-043038-0233.log"
     ]
    },
    "scrolled": false
   },
   "outputs": [],
   "source": [
    "elem = driver.find_element(By.XPATH, '//a[text() = \"conf\"]')\n",
    "elem.click()\n",
    "\n",
    "driver.save_screenshot(os.path.join(work_dir, 'sample.png'))\n",
    "Image(os.path.join(work_dir, 'sample.png'))"
   ]
  },
  {
   "cell_type": "markdown",
   "metadata": {
    "lc_cell_meme": {
     "current": "bdbec7c4-f498-11ea-9c07-ee16286cb09f-2-3377-ffea",
     "history": [
      {
       "current": "bdbec7c4-f498-11ea-9c07-ee16286cb09f-1-3377",
       "next": "9fa2be7c-f497-11ea-9c07-ee16286cb09f",
       "previous": "9fa2bda0-f497-11ea-9c07-ee16286cb09f"
      },
      {
       "current": "bdbec7c4-f498-11ea-9c07-ee16286cb09f-2-3377-ffea",
       "next": "9fa2be7c-f497-11ea-9c07-ee16286cb09f-1-5cc6",
       "previous": "9fa2bda0-f497-11ea-9c07-ee16286cb09f-1-4e1e"
      }
     ],
     "next": "9fa2be7c-f497-11ea-9c07-ee16286cb09f-2-5cc6-975b",
     "previous": "9fa2bda0-f497-11ea-9c07-ee16286cb09f-2-4e1e-12df"
    }
   },
   "source": [
    "クリック後即confディレクトリが表示されるわけではないので... `time.sleep`等で適宜待機してから確認するのが良いかもしれません。"
   ]
  },
  {
   "cell_type": "code",
   "execution_count": null,
   "metadata": {
    "lc_cell_meme": {
     "current": "9fa2be7c-f497-11ea-9c07-ee16286cb09f-2-5cc6-975b",
     "history": [
      {
       "current": "9fa2be7c-f497-11ea-9c07-ee16286cb09f",
       "next": null,
       "previous": "9fa2bda0-f497-11ea-9c07-ee16286cb09f"
      },
      {
       "current": "9fa2be7c-f497-11ea-9c07-ee16286cb09f",
       "next": "bdbecaee-f498-11ea-9c07-ee16286cb09f",
       "previous": "bdbec7c4-f498-11ea-9c07-ee16286cb09f"
      },
      {
       "current": "9fa2be7c-f497-11ea-9c07-ee16286cb09f",
       "next": "05618f9e-f499-11ea-9c07-ee16286cb09f",
       "previous": "bdbec7c4-f498-11ea-9c07-ee16286cb09f"
      },
      {
       "current": "9fa2be7c-f497-11ea-9c07-ee16286cb09f-1-5cc6",
       "next": "bdbecaee-f498-11ea-9c07-ee16286cb09f",
       "previous": "bdbec7c4-f498-11ea-9c07-ee16286cb09f"
      },
      {
       "current": "9fa2be7c-f497-11ea-9c07-ee16286cb09f-2-5cc6-975b",
       "next": "bdbecaee-f498-11ea-9c07-ee16286cb09f-1-2ecf",
       "previous": "bdbec7c4-f498-11ea-9c07-ee16286cb09f-1-3377"
      }
     ],
     "next": "bdbecaee-f498-11ea-9c07-ee16286cb09f-2-2ecf-f737",
     "previous": "bdbec7c4-f498-11ea-9c07-ee16286cb09f-2-3377-ffea"
    },
    "lc_wrapper": {
     "log_history": [
      "/home/jovyan/.log/20200912/20200912-013727-0768.log",
      "/home/jovyan/.log/20200912/20200912-014325-0170.log",
      "/home/jovyan/.log/20200912/20200912-014350-0038.log",
      "/home/jovyan/.log/20220220/20220220-041105-0768.log",
      "/home/jovyan/.log/20220220/20220220-042820-0279.log",
      "/home/jovyan/.log/20220220/20220220-043038-0403.log"
     ]
    },
    "scrolled": false
   },
   "outputs": [],
   "source": [
    "time.sleep(5)\n",
    "\n",
    "driver.save_screenshot(os.path.join(work_dir, 'sample.png'))\n",
    "Image(os.path.join(work_dir, 'sample.png'))"
   ]
  },
  {
   "cell_type": "markdown",
   "metadata": {
    "lc_cell_meme": {
     "current": "bdbecaee-f498-11ea-9c07-ee16286cb09f-2-2ecf-f737",
     "history": [
      {
       "current": "bdbecaee-f498-11ea-9c07-ee16286cb09f",
       "next": null,
       "previous": "9fa2be7c-f497-11ea-9c07-ee16286cb09f"
      },
      {
       "current": "bdbecaee-f498-11ea-9c07-ee16286cb09f",
       "next": "056191c4-f499-11ea-9c07-ee16286cb09f",
       "previous": "05618f9e-f499-11ea-9c07-ee16286cb09f"
      },
      {
       "current": "bdbecaee-f498-11ea-9c07-ee16286cb09f-1-2ecf",
       "next": "056191c4-f499-11ea-9c07-ee16286cb09f",
       "previous": "9fa2be7c-f497-11ea-9c07-ee16286cb09f"
      },
      {
       "current": "bdbecaee-f498-11ea-9c07-ee16286cb09f-2-2ecf-f737",
       "next": "056191c4-f499-11ea-9c07-ee16286cb09f-1-a5b2",
       "previous": "9fa2be7c-f497-11ea-9c07-ee16286cb09f-1-5cc6"
      }
     ],
     "next": "056191c4-f499-11ea-9c07-ee16286cb09f-2-a5b2-b74f",
     "previous": "9fa2be7c-f497-11ea-9c07-ee16286cb09f-2-5cc6-975b"
    }
   },
   "source": [
    "## 要素が存在しているかチェック\n",
    "\n",
    "このように画面遷移をさせながら、適宜予期した要素が存在しているかなど日々チェックできると安心かなと。\n",
    "\n",
    "以下のコードは期待した要素が存在していないと`NoSuchElementException`で失敗します。"
   ]
  },
  {
   "cell_type": "code",
   "execution_count": null,
   "metadata": {
    "lc_cell_meme": {
     "current": "056191c4-f499-11ea-9c07-ee16286cb09f-2-a5b2-b74f",
     "history": [
      {
       "current": "056191c4-f499-11ea-9c07-ee16286cb09f",
       "next": "0561926e-f499-11ea-9c07-ee16286cb09f",
       "previous": "bdbecaee-f498-11ea-9c07-ee16286cb09f"
      },
      {
       "current": "056191c4-f499-11ea-9c07-ee16286cb09f-1-a5b2",
       "next": "0561926e-f499-11ea-9c07-ee16286cb09f-1-2a86",
       "previous": "bdbecaee-f498-11ea-9c07-ee16286cb09f"
      },
      {
       "current": "056191c4-f499-11ea-9c07-ee16286cb09f-1-a5b2",
       "next": "0561926e-f499-11ea-9c07-ee16286cb09f-2-2a86-c815",
       "previous": "bdbecaee-f498-11ea-9c07-ee16286cb09f-1-2ecf"
      },
      {
       "current": "056191c4-f499-11ea-9c07-ee16286cb09f-2-a5b2-b74f",
       "next": "25315a35-9158-11ec-903a-ef9d5a850747-1-6485",
       "previous": "bdbecaee-f498-11ea-9c07-ee16286cb09f-1-2ecf"
      }
     ],
     "next": "25315a35-9158-11ec-903a-ef9d5a850747-2-6485-da4d",
     "previous": "bdbecaee-f498-11ea-9c07-ee16286cb09f-2-2ecf-f737"
    },
    "lc_wrapper": {
     "log_history": [
      "/home/jovyan/.log/20200912/20200912-014034-0366.log",
      "/home/jovyan/.log/20200912/20200912-014045-0068.log",
      "/home/jovyan/.log/20200912/20200912-014330-0365.log",
      "/home/jovyan/.log/20200912/20200912-014355-0184.log",
      "/home/jovyan/.log/20220220/20220220-041117-0821.log",
      "/home/jovyan/.log/20220220/20220220-041128-0653.log",
      "/home/jovyan/.log/20220220/20220220-042825-0353.log",
      "/home/jovyan/.log/20220220/20220220-043043-0480.log"
     ]
    }
   },
   "outputs": [],
   "source": [
    "# If the expected file does not exist, it fails with NoSuchElementException\n",
    "driver.find_element(By.XPATH, '//a[text() = \"jupyter_notebook_config.py\"]')"
   ]
  },
  {
   "cell_type": "markdown",
   "metadata": {
    "lc_cell_meme": {
     "current": "25315a35-9158-11ec-903a-ef9d5a850747-2-6485-da4d",
     "history": [
      {
       "current": "25315a35-9158-11ec-903a-ef9d5a850747-1-6485",
       "next": "92ee5368-8bec-11ec-9d38-dbed5e9124ac-2-354b-2750",
       "previous": "b51d6900-9157-11ec-bf8e-ef9d5a850747"
      },
      {
       "current": "25315a35-9158-11ec-903a-ef9d5a850747-1-6485",
       "next": "92ee5368-8bec-11ec-9d38-dbed5e9124ac-3-354b-2750-87bc",
       "previous": "056191c4-f499-11ea-9c07-ee16286cb09f-1-a5b2"
      },
      {
       "current": "25315a35-9158-11ec-903a-ef9d5a850747-2-6485-da4d",
       "next": "4b6dde61-8bec-11ec-b848-dbed5e9124ac-3-e756-91cc-5179",
       "previous": "056191c4-f499-11ea-9c07-ee16286cb09f-1-a5b2"
      }
     ],
     "next": "4b6dde61-8bec-11ec-b848-dbed5e9124ac-4-e756-91cc-5179-63db",
     "previous": "056191c4-f499-11ea-9c07-ee16286cb09f-2-a5b2-b74f"
    }
   },
   "source": [
    "# 応答速度確認\n",
    "\n",
    "この例では [harファイル](https://toolbox.googleapps.com/apps/har_analyzer/?lang=ja) を取得してみます。HAR Analyzer等のアプリケーションを利用することで、Webサイトのパフォーマンスを詳細に分析することができます。"
   ]
  },
  {
   "cell_type": "code",
   "execution_count": null,
   "metadata": {
    "lc_cell_meme": {
     "current": "4b6dde61-8bec-11ec-b848-dbed5e9124ac-4-e756-91cc-5179-63db",
     "history": [
      {
       "current": "4b6dde61-8bec-11ec-b848-dbed5e9124ac",
       "next": "7636e5c6-f498-11ea-9c07-ee16286cb09f-1-7ea6",
       "previous": "9fa2ba1c-f497-11ea-9c07-ee16286cb09f-1-adaa"
      },
      {
       "current": "4b6dde61-8bec-11ec-b848-dbed5e9124ac",
       "next": "7636e5c6-f498-11ea-9c07-ee16286cb09f-1-7ea6",
       "previous": "92ee5368-8bec-11ec-9d38-dbed5e9124ac"
      },
      {
       "current": "4b6dde61-8bec-11ec-b848-dbed5e9124ac",
       "next": "7636e5c6-f498-11ea-9c07-ee16286cb09f-1-7ea6",
       "previous": "da754a51-8bec-11ec-961f-dbed5e9124ac"
      },
      {
       "current": "4b6dde61-8bec-11ec-b848-dbed5e9124ac-1-e756",
       "next": "7636e5c6-f498-11ea-9c07-ee16286cb09f-1-7ea6",
       "previous": "92ee5368-8bec-11ec-9d38-dbed5e9124ac"
      },
      {
       "current": "4b6dde61-8bec-11ec-b848-dbed5e9124ac-1-e756",
       "next": "a7acfa54-8c04-11ec-88d2-3fb978b2947b",
       "previous": "92ee5368-8bec-11ec-9d38-dbed5e9124ac-1-354b"
      },
      {
       "current": "4b6dde61-8bec-11ec-b848-dbed5e9124ac-1-e756",
       "next": "0d4c6150-8c06-11ec-951e-3fb978b2947b",
       "previous": "92ee5368-8bec-11ec-9d38-dbed5e9124ac-1-354b"
      },
      {
       "current": "4b6dde61-8bec-11ec-b848-dbed5e9124ac-2-e756-91cc",
       "next": "7636e5c6-f498-11ea-9c07-ee16286cb09f-2-7ea6-70f7",
       "previous": "92ee5368-8bec-11ec-9d38-dbed5e9124ac-1-354b"
      },
      {
       "current": "4b6dde61-8bec-11ec-b848-dbed5e9124ac-3-e756-91cc-5179",
       "next": "25315b11-9158-11ec-9d48-ef9d5a850747",
       "previous": "92ee5368-8bec-11ec-9d38-dbed5e9124ac-2-354b-2750"
      },
      {
       "current": "4b6dde61-8bec-11ec-b848-dbed5e9124ac-3-e756-91cc-5179",
       "next": "25315b11-9158-11ec-9d48-ef9d5a850747-1-e052",
       "previous": "92ee5368-8bec-11ec-9d38-dbed5e9124ac-3-354b-2750-87bc"
      },
      {
       "current": "4b6dde61-8bec-11ec-b848-dbed5e9124ac-3-e756-91cc-5179",
       "next": "25315b11-9158-11ec-9d48-ef9d5a850747-1-e052",
       "previous": "25315a35-9158-11ec-903a-ef9d5a850747-1-6485"
      },
      {
       "current": "4b6dde61-8bec-11ec-b848-dbed5e9124ac-4-e756-91cc-5179-63db",
       "next": "cc5cd9d9-9205-11ec-b4d8-ef9d5a850747",
       "previous": "25315a35-9158-11ec-903a-ef9d5a850747-1-6485"
      }
     ],
     "next": "cc5cd9d9-9205-11ec-b4d8-ef9d5a850747-1-71d6",
     "previous": "25315a35-9158-11ec-903a-ef9d5a850747-2-6485-da4d"
    },
    "lc_wrapper": {
     "log_history": [
      "/home/jovyan/.log/20220212/20220212-101153-0960.log",
      "/home/jovyan/.log/20220212/20220212-102245-0680.log",
      "/home/jovyan/.log/20220212/20220212-102308-0930.log",
      "/home/jovyan/.log/20220212/20220212-102452-0972.log",
      "/home/jovyan/.log/20220212/20220212-102541-0345.log",
      "/home/jovyan/.log/20220212/20220212-130513-0158.log",
      "/home/jovyan/.log/20220212/20220212-131443-0476.log",
      "/home/jovyan/.log/20220212/20220212-131910-0412.log",
      "/home/jovyan/.log/20220212/20220212-131930-0649.log",
      "/home/jovyan/.log/20220219/20220219-074618-0480.log",
      "/home/jovyan/.log/20220220/20220220-041558-0054.log",
      "/home/jovyan/.log/20220220/20220220-042825-0376.log",
      "/home/jovyan/.log/20220220/20220220-043043-0502.log"
     ]
    }
   },
   "outputs": [],
   "source": [
    "import requests\n",
    "import json\n",
    "\n",
    "# DriverからPerfomance Logを取得し、これをHARとして整形する\n",
    "# 参考: https://stackoverflow.com/questions/18075645/export-har-using-chromedriver\n",
    "def get_perf_entry_logs(driver):\n",
    "    r = []\n",
    "    for log in driver.get_log('performance'):\n",
    "        r.append(json.loads(log['message'])['message'])\n",
    "    return r\n",
    "\n",
    "def load_har(driver):\n",
    "    r = requests.get('https://cdn.jsdelivr.net/gh/Ankit3794/chrome_har_js@master/chromePerfLogsHAR.js')\n",
    "    r.encoding = r.apparent_encoding\n",
    "    perf_logs_har_script = r.text\n",
    "\n",
    "    driver.execute_script(perf_logs_har_script);\n",
    "    har_body = driver.execute_script(\"return module.getHarFromMessages(arguments[0])\", json.dumps(get_perf_entry_logs(driver)))\n",
    "    return json.loads(har_body)\n",
    "\n",
    "har_data = load_har(driver)\n",
    "har_data"
   ]
  },
  {
   "cell_type": "markdown",
   "metadata": {
    "lc_cell_meme": {
     "current": "cc5cd9d9-9205-11ec-b4d8-ef9d5a850747-1-71d6",
     "execution_end_time": "2022-02-20T04:29:37.815366Z",
     "history": [
      {
       "current": "cc5cd9d9-9205-11ec-b4d8-ef9d5a850747-1-71d6",
       "next": "25315b11-9158-11ec-9d48-ef9d5a850747-1-e052",
       "previous": "4b6dde61-8bec-11ec-b848-dbed5e9124ac-3-e756-91cc-5179"
      }
     ],
     "next": "25315b11-9158-11ec-9d48-ef9d5a850747-2-e052-9040",
     "previous": "4b6dde61-8bec-11ec-b848-dbed5e9124ac-4-e756-91cc-5179-63db"
    },
    "lc_wrapper": {
     "log_history": [
      "/home/jovyan/.log/20220220/20220220-042937-0810.log"
     ]
    }
   },
   "source": [
    "URLごとにtimeの項目を抽出してみます。"
   ]
  },
  {
   "cell_type": "code",
   "execution_count": null,
   "metadata": {
    "lc_cell_meme": {
     "current": "25315b11-9158-11ec-9d48-ef9d5a850747-2-e052-9040",
     "history": [
      {
       "current": "25315b11-9158-11ec-9d48-ef9d5a850747",
       "next": "0561926e-f499-11ea-9c07-ee16286cb09f-2-2a86-c815",
       "previous": "4b6dde61-8bec-11ec-b848-dbed5e9124ac-2-e756-91cc"
      },
      {
       "current": "25315b11-9158-11ec-9d48-ef9d5a850747-1-e052",
       "next": "8ae261bf-9159-11ec-93d8-ef9d5a850747",
       "previous": "4b6dde61-8bec-11ec-b848-dbed5e9124ac-2-e756-91cc"
      },
      {
       "current": "25315b11-9158-11ec-9d48-ef9d5a850747-1-e052",
       "next": "8ae261bf-9159-11ec-93d8-ef9d5a850747-1-e5dc",
       "previous": "4b6dde61-8bec-11ec-b848-dbed5e9124ac-3-e756-91cc-5179"
      },
      {
       "current": "25315b11-9158-11ec-9d48-ef9d5a850747-1-e052",
       "next": "48a19127-9203-11ec-98c8-ef9d5a850747-1-7601",
       "previous": "4b6dde61-8bec-11ec-b848-dbed5e9124ac-3-e756-91cc-5179"
      },
      {
       "current": "25315b11-9158-11ec-9d48-ef9d5a850747-2-e052-9040",
       "next": "cc5cdb24-9205-11ec-9180-ef9d5a850747",
       "previous": "cc5cd9d9-9205-11ec-b4d8-ef9d5a850747"
      }
     ],
     "next": "cc5cdb24-9205-11ec-9180-ef9d5a850747-1-b012",
     "previous": "cc5cd9d9-9205-11ec-b4d8-ef9d5a850747-1-71d6"
    },
    "lc_wrapper": {
     "log_history": [
      "/home/jovyan/.log/20220219/20220219-074916-0678.log",
      "/home/jovyan/.log/20220219/20220219-075001-0610.log",
      "/home/jovyan/.log/20220219/20220219-075116-0589.log",
      "/home/jovyan/.log/20220219/20220219-075210-0034.log",
      "/home/jovyan/.log/20220219/20220219-075350-0276.log",
      "/home/jovyan/.log/20220219/20220219-075506-0589.log",
      "/home/jovyan/.log/20220219/20220219-075540-0312.log",
      "/home/jovyan/.log/20220219/20220219-075552-0854.log",
      "/home/jovyan/.log/20220219/20220219-075559-0679.log",
      "/home/jovyan/.log/20220219/20220219-075652-0384.log",
      "/home/jovyan/.log/20220220/20220220-041619-0957.log",
      "/home/jovyan/.log/20220220/20220220-041629-0021.log",
      "/home/jovyan/.log/20220220/20220220-042826-0022.log",
      "/home/jovyan/.log/20220220/20220220-042937-0987.log",
      "/home/jovyan/.log/20220220/20220220-043044-0418.log"
     ]
    }
   },
   "outputs": [],
   "source": [
    "import pandas as pd\n",
    "\n",
    "perf_df = pd.DataFrame([(e['request']['url'], e['time']) for e in har_data['log']['entries']], columns=['URL', 'time_ms'])\n",
    "perf_df"
   ]
  },
  {
   "cell_type": "markdown",
   "metadata": {
    "lc_cell_meme": {
     "current": "cc5cdb24-9205-11ec-9180-ef9d5a850747-1-b012",
     "history": [
      {
       "current": "cc5cdb24-9205-11ec-9180-ef9d5a850747-1-b012",
       "next": "cc5cdb61-9205-11ec-b6c2-ef9d5a850747",
       "previous": "25315b11-9158-11ec-9d48-ef9d5a850747-1-e052"
      }
     ],
     "next": "cc5cdb61-9205-11ec-b6c2-ef9d5a850747-1-fd45",
     "previous": "25315b11-9158-11ec-9d48-ef9d5a850747-2-e052-9040"
    }
   },
   "source": [
    "time_msの分布をヒストグラムで出しておくと、応答時間の傾向を把握できるかもしれません。"
   ]
  },
  {
   "cell_type": "code",
   "execution_count": null,
   "metadata": {
    "lc_cell_meme": {
     "current": "cc5cdb61-9205-11ec-b6c2-ef9d5a850747-1-fd45",
     "history": [
      {
       "current": "cc5cdb61-9205-11ec-b6c2-ef9d5a850747-1-fd45",
       "next": "48a19127-9203-11ec-98c8-ef9d5a850747-1-7601",
       "previous": "cc5cdb24-9205-11ec-9180-ef9d5a850747"
      }
     ],
     "next": "48a19127-9203-11ec-98c8-ef9d5a850747-2-7601-2d75",
     "previous": "cc5cdb24-9205-11ec-9180-ef9d5a850747-1-b012"
    },
    "lc_wrapper": {
     "log_history": [
      "/home/jovyan/.log/20220220/20220220-043015-0543.log",
      "/home/jovyan/.log/20220220/20220220-043044-0735.log"
     ]
    }
   },
   "outputs": [],
   "source": [
    "perf_df['time_ms'].hist()"
   ]
  },
  {
   "cell_type": "markdown",
   "metadata": {
    "lc_cell_meme": {
     "current": "48a19127-9203-11ec-98c8-ef9d5a850747-2-7601-2d75",
     "history": [
      {
       "current": "48a19127-9203-11ec-98c8-ef9d5a850747-1-7601",
       "next": "0561926e-f499-11ea-9c07-ee16286cb09f-2-2a86-c815",
       "previous": "8ae26293-9159-11ec-9280-ef9d5a850747-1-b920"
      },
      {
       "current": "48a19127-9203-11ec-98c8-ef9d5a850747-1-7601",
       "next": "0561926e-f499-11ea-9c07-ee16286cb09f-2-2a86-c815",
       "previous": "25315b11-9158-11ec-9d48-ef9d5a850747-1-e052"
      },
      {
       "current": "48a19127-9203-11ec-98c8-ef9d5a850747-1-7601",
       "next": "f5c74b40-9204-11ec-aea3-ef9d5a850747",
       "previous": "25315b11-9158-11ec-9d48-ef9d5a850747-1-e052"
      },
      {
       "current": "48a19127-9203-11ec-98c8-ef9d5a850747-2-7601-2d75",
       "next": "f5c74b40-9204-11ec-aea3-ef9d5a850747",
       "previous": "cc5cdb61-9205-11ec-b6c2-ef9d5a850747"
      }
     ],
     "next": "f5c74b40-9204-11ec-aea3-ef9d5a850747-1-4bb4",
     "previous": "cc5cdb61-9205-11ec-b6c2-ef9d5a850747-1-fd45"
    }
   },
   "source": [
    "harファイルは日付をつけて`har` ディレクトリに保存しておくことにします。\n",
    "あとで問題が起きた時に分析したり、長期的なトレンドを分析するのに役立つかもしれません。"
   ]
  },
  {
   "cell_type": "code",
   "execution_count": null,
   "metadata": {
    "lc_cell_meme": {
     "current": "f5c74b40-9204-11ec-aea3-ef9d5a850747-1-4bb4",
     "history": [
      {
       "current": "f5c74b40-9204-11ec-aea3-ef9d5a850747-1-4bb4",
       "next": "0561926e-f499-11ea-9c07-ee16286cb09f-2-2a86-c815",
       "previous": "48a19127-9203-11ec-98c8-ef9d5a850747-1-7601"
      }
     ],
     "next": "0561926e-f499-11ea-9c07-ee16286cb09f-3-2a86-c815-e585",
     "previous": "48a19127-9203-11ec-98c8-ef9d5a850747-2-7601-2d75"
    },
    "lc_wrapper": {
     "log_history": [
      "/home/jovyan/.log/20220220/20220220-042626-0854.log",
      "/home/jovyan/.log/20220220/20220220-042719-0884.log",
      "/home/jovyan/.log/20220220/20220220-042736-0868.log",
      "/home/jovyan/.log/20220220/20220220-042826-0614.log",
      "/home/jovyan/.log/20220220/20220220-043044-0999.log"
     ]
    }
   },
   "outputs": [],
   "source": [
    "from datetime import datetime\n",
    "\n",
    "har_files_path = './har'\n",
    "!mkdir -p {har_files_path}\n",
    "\n",
    "# ファイル名はyyyymmddhhmmssとする - 環境のTimezoneに注意\n",
    "filename = 'selenium-' + datetime.now().strftime('%Y-%m-%d-%H-%M-%S')\n",
    "with open(os.path.join(har_files_path, f'{filename}.json'), 'w') as f:\n",
    "    f.write(json.dumps(har_data))\n",
    "!ls -la {har_files_path}"
   ]
  },
  {
   "cell_type": "markdown",
   "metadata": {
    "lc_cell_meme": {
     "current": "0561926e-f499-11ea-9c07-ee16286cb09f-3-2a86-c815-e585",
     "history": [
      {
       "current": "0561926e-f499-11ea-9c07-ee16286cb09f-2-2a86-c815",
       "next": "4cccb9bc-f499-11ea-9c07-ee16286cb09f",
       "previous": "056191c4-f499-11ea-9c07-ee16286cb09f"
      },
      {
       "current": "0561926e-f499-11ea-9c07-ee16286cb09f-2-2a86-c815",
       "next": "4cccb9bc-f499-11ea-9c07-ee16286cb09f-1-7894",
       "previous": "056191c4-f499-11ea-9c07-ee16286cb09f-1-a5b2"
      },
      {
       "current": "0561926e-f499-11ea-9c07-ee16286cb09f-2-2a86-c815",
       "next": "4cccb9bc-f499-11ea-9c07-ee16286cb09f-1-7894",
       "previous": "48a19127-9203-11ec-98c8-ef9d5a850747"
      },
      {
       "current": "0561926e-f499-11ea-9c07-ee16286cb09f-2-2a86-c815",
       "next": "4cccb9bc-f499-11ea-9c07-ee16286cb09f-1-7894",
       "previous": "48a19127-9203-11ec-98c8-ef9d5a850747-1-7601"
      },
      {
       "current": "0561926e-f499-11ea-9c07-ee16286cb09f-3-2a86-c815-e585",
       "next": "4cccb9bc-f499-11ea-9c07-ee16286cb09f-1-7894",
       "previous": "f5c74b40-9204-11ec-aea3-ef9d5a850747"
      }
     ],
     "next": "4cccb9bc-f499-11ea-9c07-ee16286cb09f-2-7894-cc17",
     "previous": "f5c74b40-9204-11ec-aea3-ef9d5a850747-1-4bb4"
    }
   },
   "source": [
    "# 後始末\n",
    "\n",
    "忘れず一時ファイルは削除しておきましょう。"
   ]
  },
  {
   "cell_type": "code",
   "execution_count": null,
   "metadata": {
    "lc_cell_meme": {
     "current": "4cccb9bc-f499-11ea-9c07-ee16286cb09f-2-7894-cc17",
     "history": [
      {
       "current": "4cccb9bc-f499-11ea-9c07-ee16286cb09f-1-7894",
       "next": "4cccbab6-f499-11ea-9c07-ee16286cb09f",
       "previous": "0561926e-f499-11ea-9c07-ee16286cb09f-1-2a86"
      },
      {
       "current": "4cccb9bc-f499-11ea-9c07-ee16286cb09f-2-7894-cc17",
       "next": "4cccbab6-f499-11ea-9c07-ee16286cb09f-1-9389",
       "previous": "0561926e-f499-11ea-9c07-ee16286cb09f-2-2a86-c815"
      }
     ],
     "next": "4cccbab6-f499-11ea-9c07-ee16286cb09f-2-9389-702f",
     "previous": "0561926e-f499-11ea-9c07-ee16286cb09f-3-2a86-c815-e585"
    },
    "lc_wrapper": {
     "log_history": [
      "/home/jovyan/.log/20200912/20200912-014158-0967.log",
      "/home/jovyan/.log/20200912/20200912-014355-0246.log",
      "/home/jovyan/.log/20220220/20220220-042757-0531.log",
      "/home/jovyan/.log/20220220/20220220-042827-0468.log",
      "/home/jovyan/.log/20220220/20220220-043045-0824.log"
     ]
    }
   },
   "outputs": [],
   "source": [
    "!rm -fr {work_dir}"
   ]
  },
  {
   "cell_type": "code",
   "execution_count": null,
   "metadata": {
    "lc_cell_meme": {
     "current": "4cccbab6-f499-11ea-9c07-ee16286cb09f-2-9389-702f",
     "history": [
      {
       "current": "4cccbab6-f499-11ea-9c07-ee16286cb09f-1-9389",
       "next": null,
       "previous": "4cccb9bc-f499-11ea-9c07-ee16286cb09f"
      },
      {
       "current": "4cccbab6-f499-11ea-9c07-ee16286cb09f-2-9389-702f",
       "next": null,
       "previous": "4cccb9bc-f499-11ea-9c07-ee16286cb09f-1-7894"
      }
     ],
     "next": null,
     "previous": "4cccb9bc-f499-11ea-9c07-ee16286cb09f-2-7894-cc17"
    }
   },
   "outputs": [],
   "source": []
  }
 ],
 "metadata": {
  "kernelspec": {
   "display_name": "Python 3",
   "language": "python",
   "name": "python3"
  },
  "language_info": {
   "file_extension": ".py",
   "mimetype": "text/x-python",
   "name": "python",
   "nbconvert_exporter": "python",
   "pygments_lexer": "ipython3",
   "version": "3.11.4"
  },
  "lc_notebook_meme": {
   "current": "9fa2b558-f497-11ea-9c07-ee16286cb09f",
   "lc_server_signature": {
    "current": {
     "notebook_dir": "",
     "notebook_path": "/",
     "server_url": "http://127.0.0.1:8888/",
     "signature_id": "8bfa72f4-6ed1-11ee-8d68-0242ac110002"
    },
    "history": [
     {
      "notebook_dir": "/home/jovyan",
      "notebook_path": "/",
      "server_url": "https://hub.gke.mybinder.org/user/JulioCesar82-jupyter-with-jenkins-mjz31c2g/",
      "signature_id": "51d96e5c-f497-11ea-9c07-ee16286cb09f"
     },
     {
      "notebook_dir": "/home/jovyan",
      "notebook_path": "/",
      "server_url": "https://jupyter.cs.rcos.nii.ac.jp/user/satoshi-yazawa@nii.ac.jp/JulioCesar82-jupyter-with-jenkins-8mm4hxn3/",
      "signature_id": "d8497bdd-8c89-11ec-baeb-ef9d5a850747"
     }
    ]
   }
  },
  "toc": {
   "base_numbering": 1,
   "nav_menu": {},
   "number_sections": true,
   "sideBar": true,
   "skip_h1_title": false,
   "title_cell": "Table of Contents",
   "title_sidebar": "Contents",
   "toc_cell": false,
   "toc_position": {
    "height": "calc(100% - 180px)",
    "left": "10px",
    "top": "150px",
    "width": "278.188px"
   },
   "toc_section_display": true,
   "toc_window_display": true
  }
 },
 "nbformat": 4,
 "nbformat_minor": 4
}
